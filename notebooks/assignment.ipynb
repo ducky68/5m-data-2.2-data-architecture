{
 "cells": [
  {
   "cell_type": "markdown",
   "id": "faada338",
   "metadata": {},
   "source": [
    "# Assignment\n",
    "\n",
    "## Brief\n",
    "\n",
    "Write the Python codes for the following questions.\n",
    "\n",
    "## Instructions\n",
    "\n",
    "Paste the answer as Python in the answer code section below each question.\n",
    "\n",
    "### Question 1\n",
    "\n",
    "Question: How would you create a new hash in Redis to store information about a person, with `john_doe` as the key and include the name (`John Doe`), age (`35`), and email address (`john@email.com`)?\n",
    "\n",
    "\n",
    "\n"
   ]
  },
  {
   "cell_type": "code",
   "execution_count": null,
   "id": "d9c60ee3",
   "metadata": {},
   "outputs": [],
   "source": [
    "# Create a connection to the Redis database using the redis-py client\n",
    "r = redis.Redis(\n",
    "    host='redis-15940.c82.us-east-1-2.ec2.redns.redis-cloud.com',  # Hostname of the Redis server (cloud instance)\n",
    "    port=15940,                                                    # Port number assigned to your Redis instance\n",
    "    decode_responses=True,                                         # Ensures responses are returned as strings, not bytes\n",
    "    username=\"default\",                                            # Username for authentication (default for Redis Cloud)\n",
    "    password=\"3gvKmTXedHnpoWDytXNG2gsZL3HyY0jt\",                   # Password for authentication\n",
    ")"
   ]
  },
  {
   "cell_type": "code",
   "execution_count": null,
   "id": "4f26f277",
   "metadata": {},
   "outputs": [
    {
     "data": {
      "text/plain": [
       "3"
      ]
     },
     "execution_count": 2,
     "metadata": {},
     "output_type": "execute_result"
    }
   ],
   "source": [
    "# Use hset() to create a hash in Redis with \"john_doe\" as the key\n",
    "# The mapping parameter allows us to specify multiple field-value pairs at once\n",
    "r.hset(\"john_doe\", mapping={\n",
    "    \"name\": \"John Doe\",  # Field: name, Value: John Doe\n",
    "    \"age\": 35,           # Field: age, Value: 35 (automatically converted to string in Redis)\n",
    "    \"email\": \"john@email.com\"  # Field: email, Value: john@email.com\n",
    "})"
   ]
  },
  {
   "cell_type": "markdown",
   "id": "2802c158",
   "metadata": {},
   "source": [
    "### Question 2\n",
    "\n",
    "Question: Write Python code to list the first 10 objects (blob name) in the \"gcp-public-data-landsat\" bucket, along with their sizes.\n",
    "\n",
    "\n",
    "\n",
    "\n"
   ]
  },
  {
   "cell_type": "code",
   "execution_count": null,
   "id": "6068a688",
   "metadata": {},
   "outputs": [],
   "source": [
    "# Import the Google Cloud Storage library\n",
    "from google.cloud import storage\n",
    "\n",
    "# Create a client object to interact with Google Cloud Storage\n",
    "# This uses application default credentials configured with gcloud auth\n",
    "client = storage.Client()\n",
    "\n",
    "# Connect to a specific bucket by its name - in this case, a public Landsat dataset\n",
    "bucket = client.get_bucket(\"gcp-public-data-landsat\")\n",
    "\n"
   ]
  },
  {
   "cell_type": "code",
   "execution_count": 4,
   "id": "5d89e0ab",
   "metadata": {},
   "outputs": [
    {
     "name": "stdout",
     "output_type": "stream",
     "text": [
      "Blob Name: LC08/01/001/002/LC08_L1GT_001002_20160817_20170322_01_T2/LC08_L1GT_001002_20160817_20170322_01_T2_ANG.txt, Size: 117255 bytes\n",
      "Blob Name: LC08/01/001/002/LC08_L1GT_001002_20160817_20170322_01_T2/LC08_L1GT_001002_20160817_20170322_01_T2_B1.TIF, Size: 75085385 bytes\n",
      "Blob Name: LC08/01/001/002/LC08_L1GT_001002_20160817_20170322_01_T2/LC08_L1GT_001002_20160817_20170322_01_T2_B10.TIF, Size: 40612836 bytes\n",
      "Blob Name: LC08/01/001/002/LC08_L1GT_001002_20160817_20170322_01_T2/LC08_L1GT_001002_20160817_20170322_01_T2_B11.TIF, Size: 39267654 bytes\n",
      "Blob Name: LC08/01/001/002/LC08_L1GT_001002_20160817_20170322_01_T2/LC08_L1GT_001002_20160817_20170322_01_T2_B2.TIF, Size: 76259448 bytes\n",
      "Blob Name: LC08/01/001/002/LC08_L1GT_001002_20160817_20170322_01_T2/LC08_L1GT_001002_20160817_20170322_01_T2_B3.TIF, Size: 76813565 bytes\n",
      "Blob Name: LC08/01/001/002/LC08_L1GT_001002_20160817_20170322_01_T2/LC08_L1GT_001002_20160817_20170322_01_T2_B4.TIF, Size: 78510140 bytes\n",
      "Blob Name: LC08/01/001/002/LC08_L1GT_001002_20160817_20170322_01_T2/LC08_L1GT_001002_20160817_20170322_01_T2_B5.TIF, Size: 80344717 bytes\n",
      "Blob Name: LC08/01/001/002/LC08_L1GT_001002_20160817_20170322_01_T2/LC08_L1GT_001002_20160817_20170322_01_T2_B6.TIF, Size: 76416634 bytes\n",
      "Blob Name: LC08/01/001/002/LC08_L1GT_001002_20160817_20170322_01_T2/LC08_L1GT_001002_20160817_20170322_01_T2_B7.TIF, Size: 73888286 bytes\n"
     ]
    }
   ],
   "source": [
    "# Retrieve a list of all blobs (objects) from the Google Cloud Storage bucket\n",
    "blobs = bucket.list_blobs()\n",
    "\n",
    "# Loop through each blob with enumerate() to get both the index and blob object\n",
    "for i, blob in enumerate(blobs):\n",
    "    # Limit output to only show the first 10 blobs\n",
    "    if i >= 10:\n",
    "        break\n",
    "    # For each blob, print its name (path in bucket) and size in bytes\n",
    "    print(f\"Blob Name: {blob.name}, Size: {blob.size} bytes\")"
   ]
  },
  {
   "cell_type": "markdown",
   "id": "737dba41",
   "metadata": {},
   "source": [
    "## Submission\n",
    "\n",
    "- Submit the URL of the GitHub Repository that contains your work to NTU black board.\n",
    "- Should you reference the work of your classmate(s) or online resources, give them credit by adding either the name of your classmate or URL."
   ]
  },
  {
   "cell_type": "code",
   "execution_count": null,
   "id": "f2a19b27",
   "metadata": {},
   "outputs": [],
   "source": []
  },
  {
   "cell_type": "code",
   "execution_count": null,
   "id": "fcd66373",
   "metadata": {},
   "outputs": [],
   "source": []
  },
  {
   "cell_type": "code",
   "execution_count": null,
   "id": "00cea8d1",
   "metadata": {},
   "outputs": [],
   "source": []
  },
  {
   "cell_type": "code",
   "execution_count": null,
   "id": "ee5da47b",
   "metadata": {},
   "outputs": [],
   "source": []
  },
  {
   "cell_type": "code",
   "execution_count": null,
   "id": "ceb3757a",
   "metadata": {},
   "outputs": [],
   "source": []
  },
  {
   "cell_type": "code",
   "execution_count": null,
   "id": "5469a35c",
   "metadata": {},
   "outputs": [],
   "source": []
  },
  {
   "cell_type": "code",
   "execution_count": null,
   "id": "87aef066",
   "metadata": {},
   "outputs": [],
   "source": []
  }
 ],
 "metadata": {
  "kernelspec": {
   "display_name": "bde",
   "language": "python",
   "name": "python3"
  },
  "language_info": {
   "codemirror_mode": {
    "name": "ipython",
    "version": 3
   },
   "file_extension": ".py",
   "mimetype": "text/x-python",
   "name": "python",
   "nbconvert_exporter": "python",
   "pygments_lexer": "ipython3",
   "version": "3.10.13"
  }
 },
 "nbformat": 4,
 "nbformat_minor": 5
}
